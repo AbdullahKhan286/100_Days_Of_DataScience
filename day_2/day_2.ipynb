{
 "cells": [
  {
   "cell_type": "markdown",
   "metadata": {},
   "source": [
    "# BOOLEAN"
   ]
  },
  {
   "cell_type": "code",
   "execution_count": 4,
   "metadata": {},
   "outputs": [
    {
     "name": "stdout",
     "output_type": "stream",
     "text": [
      "True False False\n"
     ]
    }
   ],
   "source": [
    "bool_1=bool(1)\n",
    "bool_2=bool(0)\n",
    "bool_3=bool(None)\n",
    "print(bool_1,bool_2,bool_3)"
   ]
  },
  {
   "cell_type": "markdown",
   "metadata": {},
   "source": [
    "## CASTING"
   ]
  },
  {
   "cell_type": "code",
   "execution_count": 5,
   "metadata": {},
   "outputs": [],
   "source": [
    "# int()\n",
    "# str()\n",
    "# bool()\n",
    "# float()\n",
    "# list()\n",
    "# tuple()\n",
    "# set()"
   ]
  },
  {
   "cell_type": "markdown",
   "metadata": {},
   "source": [
    "## STRING"
   ]
  },
  {
   "cell_type": "code",
   "execution_count": 8,
   "metadata": {},
   "outputs": [
    {
     "name": "stdout",
     "output_type": "stream",
     "text": [
      "<class 'type'>\n"
     ]
    },
    {
     "data": {
      "text/plain": [
       "False"
      ]
     },
     "execution_count": 8,
     "metadata": {},
     "output_type": "execute_result"
    }
   ],
   "source": [
    "str_=\"Hello World\"\n",
    "print(type(str))\n",
    "isinstance(str,str)"
   ]
  },
  {
   "cell_type": "code",
   "execution_count": 13,
   "metadata": {},
   "outputs": [
    {
     "data": {
      "text/plain": [
       "'H'"
      ]
     },
     "execution_count": 13,
     "metadata": {},
     "output_type": "execute_result"
    }
   ],
   "source": [
    "str_[0]"
   ]
  },
  {
   "cell_type": "code",
   "execution_count": 19,
   "metadata": {},
   "outputs": [
    {
     "data": {
      "text/plain": [
       "'d'"
      ]
     },
     "execution_count": 19,
     "metadata": {},
     "output_type": "execute_result"
    }
   ],
   "source": [
    "str_[-1]"
   ]
  },
  {
   "cell_type": "code",
   "execution_count": 20,
   "metadata": {},
   "outputs": [
    {
     "name": "stdout",
     "output_type": "stream",
     "text": [
      "llo\n",
      "World\n"
     ]
    },
    {
     "data": {
      "text/plain": [
       "'dlroW olleH'"
      ]
     },
     "execution_count": 20,
     "metadata": {},
     "output_type": "execute_result"
    }
   ],
   "source": [
    "# str slicing \n",
    "print(str_[2:5])  #forward\n",
    "print(str_[-5:]) #backward\n",
    "str_[::-1] #reverse"
   ]
  },
  {
   "cell_type": "markdown",
   "metadata": {},
   "source": [
    "## CONCATENATION"
   ]
  },
  {
   "cell_type": "code",
   "execution_count": 25,
   "metadata": {},
   "outputs": [
    {
     "name": "stdout",
     "output_type": "stream",
     "text": [
      "first second\n",
      "Hello WorldHello WorldHello World\n",
      "first:second\n",
      "first second,"
     ]
    }
   ],
   "source": [
    "str_1=\"first\"\n",
    "str_2=\"second\"\n",
    "print(str_1+\" \"+str_2)\n",
    "print(str_*3) #muliple\n",
    "print(str_1,str_2,sep=\":\") #sep \n",
    "print(str_1,str_2,end=\",\") #end"
   ]
  },
  {
   "cell_type": "code",
   "execution_count": 31,
   "metadata": {},
   "outputs": [
    {
     "ename": "NameError",
     "evalue": "name 'str_' is not defined",
     "output_type": "error",
     "traceback": [
      "\u001b[0;31m---------------------------------------------------------------------------\u001b[0m",
      "\u001b[0;31mNameError\u001b[0m                                 Traceback (most recent call last)",
      "Cell \u001b[0;32mIn[31], line 2\u001b[0m\n\u001b[1;32m      1\u001b[0m \u001b[38;5;66;03m# delete string\u001b[39;00m\n\u001b[0;32m----> 2\u001b[0m \u001b[38;5;28;01mdel\u001b[39;00m str_\n\u001b[1;32m      3\u001b[0m \u001b[38;5;28mprint\u001b[39m(str_)\n",
      "\u001b[0;31mNameError\u001b[0m: name 'str_' is not defined"
     ]
    }
   ],
   "source": [
    "# delete string\n",
    "del str_\n",
    "print(str_)"
   ]
  },
  {
   "cell_type": "markdown",
   "metadata": {},
   "source": [
    "## PARTITION"
   ]
  },
  {
   "cell_type": "code",
   "execution_count": 38,
   "metadata": {},
   "outputs": [
    {
     "name": "stdout",
     "output_type": "stream",
     "text": [
      "('Hello, how are your', '?', ', are they?')\n"
     ]
    }
   ],
   "source": [
    "str_part=\"Hello, how are your?, are they?\"\n",
    "print(str_part.partition(\"?\")) #partition the sentence"
   ]
  },
  {
   "cell_type": "code",
   "execution_count": 39,
   "metadata": {},
   "outputs": [
    {
     "name": "stdout",
     "output_type": "stream",
     "text": [
      "('Hello, how are your?, are they', '?', '')\n"
     ]
    }
   ],
   "source": [
    "print(str_part.rpartition(\"?\")) #last"
   ]
  },
  {
   "cell_type": "markdown",
   "metadata": {},
   "source": [
    "## FUNTIONS"
   ]
  },
  {
   "cell_type": "code",
   "execution_count": 48,
   "metadata": {},
   "outputs": [
    {
     "name": "stdout",
     "output_type": "stream",
     "text": [
      "     hi    "
     ]
    }
   ],
   "source": [
    "str_strip=\"**********     hi    *******\"\n",
    "print(str_strip.strip( \"*\"),end=\"\")"
   ]
  },
  {
   "cell_type": "code",
   "execution_count": 49,
   "metadata": {},
   "outputs": [
    {
     "name": "stdout",
     "output_type": "stream",
     "text": [
      "**********     hi    "
     ]
    }
   ],
   "source": [
    "print(str_strip.rstrip(\"*\"),end=\"\")"
   ]
  },
  {
   "cell_type": "code",
   "execution_count": 50,
   "metadata": {},
   "outputs": [
    {
     "name": "stdout",
     "output_type": "stream",
     "text": [
      "     hi    *******"
     ]
    }
   ],
   "source": [
    "print(str_strip.lstrip(\"*\"),end=\"\")"
   ]
  },
  {
   "cell_type": "code",
   "execution_count": 51,
   "metadata": {},
   "outputs": [
    {
     "name": "stdout",
     "output_type": "stream",
     "text": [
      "2\n"
     ]
    }
   ],
   "source": [
    "print(str_part.count(\"are\"))  #count"
   ]
  },
  {
   "cell_type": "code",
   "execution_count": 53,
   "metadata": {},
   "outputs": [
    {
     "name": "stdout",
     "output_type": "stream",
     "text": [
      "['welcome', 'everyone', 'boys']\n"
     ]
    }
   ],
   "source": [
    "str_ex=\"welcome everyone boys\"\n",
    "print(str_ex.split())"
   ]
  },
  {
   "cell_type": "code",
   "execution_count": 56,
   "metadata": {},
   "outputs": [
    {
     "data": {
      "text/plain": [
       "8"
      ]
     },
     "execution_count": 56,
     "metadata": {},
     "output_type": "execute_result"
    }
   ],
   "source": [
    "str_ex.find(\"everyone\")"
   ]
  },
  {
   "cell_type": "code",
   "execution_count": 57,
   "metadata": {},
   "outputs": [
    {
     "data": {
      "text/plain": [
       "'welcome ,hi boys'"
      ]
     },
     "execution_count": 57,
     "metadata": {},
     "output_type": "execute_result"
    }
   ],
   "source": [
    "str_ex.replace(\"everyone\",\",hi\")"
   ]
  },
  {
   "cell_type": "code",
   "execution_count": 58,
   "metadata": {},
   "outputs": [
    {
     "data": {
      "text/plain": [
       "0"
      ]
     },
     "execution_count": 58,
     "metadata": {},
     "output_type": "execute_result"
    }
   ],
   "source": [
    "str_ex.index(\"welcome\")"
   ]
  },
  {
   "cell_type": "code",
   "execution_count": 62,
   "metadata": {},
   "outputs": [
    {
     "name": "stdout",
     "output_type": "stream",
     "text": [
      "True True True True False False False True\n"
     ]
    }
   ],
   "source": [
    "num_=\"10\"\n",
    "print(num_.isnumeric(),\n",
    "num_.isalnum(),\n",
    "num_.isdecimal(),\n",
    "num_.isdigit(),\n",
    "num_.islower(),\n",
    "num_.isupper(),\n",
    "num_.isspace(),\n",
    "num_.isascii())"
   ]
  },
  {
   "cell_type": "markdown",
   "metadata": {},
   "source": [
    "## LIST"
   ]
  },
  {
   "cell_type": "code",
   "execution_count": 71,
   "metadata": {},
   "outputs": [
    {
     "name": "stdout",
     "output_type": "stream",
     "text": [
      "7\n",
      "[1, 2, 3, 4, 5]\n",
      "[2, 3, 4]\n",
      "[4, 5]\n",
      "[1, 2]\n"
     ]
    }
   ],
   "source": [
    "list_1=[1,2,3,4,5]\n",
    "list_type=[\"hi\",5.8,7,[5,7,8,9],(7,8,2)]\n",
    "print(list_type[2])\n",
    "type(list_type)\n",
    "print(list_1[:5])\n",
    "print(list_1[1:4])\n",
    "print(list_1[-2:])\n",
    "print(list_1[:-3])"
   ]
  },
  {
   "cell_type": "code",
   "execution_count": null,
   "metadata": {},
   "outputs": [],
   "source": []
  }
 ],
 "metadata": {
  "kernelspec": {
   "display_name": "Python 3",
   "language": "python",
   "name": "python3"
  },
  "language_info": {
   "codemirror_mode": {
    "name": "ipython",
    "version": 3
   },
   "file_extension": ".py",
   "mimetype": "text/x-python",
   "name": "python",
   "nbconvert_exporter": "python",
   "pygments_lexer": "ipython3",
   "version": "3.9.10"
  }
 },
 "nbformat": 4,
 "nbformat_minor": 2
}
